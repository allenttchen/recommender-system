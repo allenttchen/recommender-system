{
 "cells": [
  {
   "cell_type": "markdown",
   "id": "46808d45-ecf0-477c-b44f-105a307cfa3b",
   "metadata": {},
   "source": [
    "# Collaborate Filtering User-User"
   ]
  },
  {
   "cell_type": "code",
   "execution_count": 1,
   "id": "bd1ccce8-b407-4047-acf4-e6df85577e1a",
   "metadata": {},
   "outputs": [],
   "source": [
    "import os\n",
    "import pickle\n",
    "\n",
    "import numpy as np\n",
    "import pandas as pd\n",
    "from sortedcontainers import SortedList\n",
    "from multiprocessing import Pool\n",
    "\n",
    "import collaborate_filtering_user"
   ]
  },
  {
   "cell_type": "code",
   "execution_count": 8,
   "id": "f589ed4b-206c-45ae-9579-f34881fcdcad",
   "metadata": {},
   "outputs": [],
   "source": [
    "# Load preprocessed densed matrix\n",
    "with open('data/user_to_movie.json', 'rb') as f:\n",
    "    user_to_movie = pickle.load(f)\n",
    "\n",
    "with open('data/movie_to_user.json', 'rb') as f:\n",
    "    movie_to_user = pickle.load(f)\n",
    "\n",
    "with open('data/userMovie_to_rating.json', 'rb') as f:\n",
    "    userMovie_to_rating = pickle.load(f)\n",
    "\n",
    "with open('data/userMovie_to_rating_test.json', 'rb') as f:\n",
    "    userMovie_to_rating_test = pickle.load(f)"
   ]
  },
  {
   "cell_type": "code",
   "execution_count": 9,
   "id": "cdf5ed80-1c40-4704-ac26-9158084b5240",
   "metadata": {},
   "outputs": [],
   "source": [
    "# retrieve the dimension of the sparse matrix\n",
    "N = int(np.max(list(user_to_movie.keys()))) + 1\n",
    "m1 = np.max(list(movie_to_user.keys()))\n",
    "m2 = np.max([m for (u, m), r in userMovie_to_rating_test.items()])\n",
    "M = int(max(m1, m2)) + 1"
   ]
  },
  {
   "cell_type": "code",
   "execution_count": 11,
   "id": "df13054f-02e8-4521-9b32-a2da1bcfe9b5",
   "metadata": {},
   "outputs": [
    {
     "data": {
      "text/plain": [
       "(10000, 1706)"
      ]
     },
     "execution_count": 11,
     "metadata": {},
     "output_type": "execute_result"
    }
   ],
   "source": [
    "N, M"
   ]
  },
  {
   "cell_type": "code",
   "execution_count": null,
   "id": "9922f824-02e9-4ef0-87de-b6b0972d2d65",
   "metadata": {},
   "outputs": [],
   "source": []
  },
  {
   "cell_type": "code",
   "execution_count": 12,
   "id": "d4c40198-1ba9-482c-8662-fec39375cf1e",
   "metadata": {},
   "outputs": [],
   "source": [
    "K = 25\n",
    "limit = 5\n",
    "\n",
    "def compute_stats(i):\n",
    "    # Retrieve movies for user i\n",
    "    movies_i = user_to_movie[i]\n",
    "    movies_i_set = set(movies_i)\n",
    "\n",
    "    # Compute averages and deviations for users\n",
    "    ratings_i = {movie:userMovie_to_rating[(i, movie)] for movie in movies_i}\n",
    "    avg_i = np.mean(list(ratings_i.values()))\n",
    "    dev_i = {movie:(rating - avg_i) for movie, rating in ratings_i.items()}\n",
    "    dev_i_values = np.array(list(dev_i.values()))\n",
    "    sigma_i = np.sqrt(np.sum(np.square(dev_i_values)))\n",
    "    \n",
    "    neighbors_i = SortedList()\n",
    "    for j in range(N):\n",
    "        \n",
    "        if j != i:\n",
    "            \n",
    "            # Retrieve movies for user j\n",
    "            movies_j = user_to_movie[j]\n",
    "            movies_j_set = set(movies_j)\n",
    "            \n",
    "            # Compute w_ij if user j is a qualified neighbor\n",
    "            common_movies = (movies_i_set & movies_j_set)\n",
    "            if len(common_movies) > limit:\n",
    "                # calculate avg and deviation\n",
    "                ratings_j = {movie:userMovie_to_rating[(j, movie)] for movie in movies_j}\n",
    "                avg_j = np.mean(list(ratings_j.values()))\n",
    "                dev_j = {movie:(rating - avg_j) for movie, rating in ratings_j.items()}\n",
    "                dev_j_values = np.array(list(dev_j.values()))\n",
    "                sigma_j = np.sqrt(np.sum(np.square(dev_j_values)))\n",
    "\n",
    "                # calculate correlation coefficient\n",
    "                numerator = sum(dev_i[m]*dev_j[m] for m in common_movies)\n",
    "                w_ij = numerator / (sigma_i * sigma_j)\n",
    "                \n",
    "                # negate weight, because list is sorted ascending\n",
    "                # maximum value (1) is \"closest\"\n",
    "                neighbors_i.add((-w_ij, j))\n",
    "                if len(neighbors_i) > K:\n",
    "                    del neighbors_i[-1]\n",
    "    if i % 100 == 0:\n",
    "        print(f\"Processing {i}\")\n",
    "    \n",
    "    return avg_i, dev_i, neighbors_i"
   ]
  },
  {
   "cell_type": "code",
   "execution_count": null,
   "id": "4776c25f-54e0-48ba-a6cb-3f73c8efd108",
   "metadata": {},
   "outputs": [],
   "source": [
    "%%time\n",
    "\n",
    "# # compute avg_i, dev_i, and w_ij for later predicted rating of user i for item j\n",
    "N = 10000\n",
    "with Pool(processes=5) as pool:\n",
    "    avg_for_users, dev_for_users, neighbors = pool.map(collaborate_filtering_user.compute_stats, range(N))"
   ]
  },
  {
   "cell_type": "code",
   "execution_count": null,
   "id": "70d8d23a-e1b9-491d-ac42-70a4d35a931b",
   "metadata": {},
   "outputs": [],
   "source": []
  },
  {
   "cell_type": "code",
   "execution_count": 1,
   "id": "42807031-b044-42a2-83cf-2ad74427d4db",
   "metadata": {},
   "outputs": [],
   "source": [
    "# # compute avg_i, dev_i, and w_ij for later predicted rating of user i for item j\n",
    "\n",
    "\n",
    "# neighbors = []\n",
    "# avg_for_users = []\n",
    "# dev_for_users = []\n",
    "\n",
    "# for i in range(N):\n",
    "    \n",
    "#     # Retrieve movies for user i\n",
    "#     movies_i = user_to_movie[i]\n",
    "#     movies_i_set = set(movies_i)\n",
    "\n",
    "#     # Compute averages and deviations for users\n",
    "#     ratings_i = {movie:userMovie_to_rating[(i, movie)] for movie in movies_i}\n",
    "#     avg_i = np.mean(list(ratings_i.values()))\n",
    "#     dev_i = {movie:(rating - avg_i) for movie, rating in ratings_i.items()}\n",
    "#     dev_i_values = np.array(list(dev_i.values()))\n",
    "#     sigma_i = np.sqrt(np.sum(np.square(dev_i_values)))\n",
    "\n",
    "#     avg_for_users.append(avg_i)\n",
    "#     dev_for_users.append(dev_i)\n",
    "    \n",
    "#     neighbors_i = SortedList()\n",
    "#     for j in range(N):\n",
    "        \n",
    "#         if j != i:\n",
    "            \n",
    "#             # Retrieve movies for user j\n",
    "#             movies_j = user_to_movie[j]\n",
    "#             movies_j_set = set(movies_j)\n",
    "            \n",
    "#             # Compute w_ij if user j is a qualified neighbor\n",
    "#             common_movies = (movies_i_set & movies_j_set)\n",
    "#             if len(common_movies) > limit:\n",
    "#                 # calculate avg and deviation\n",
    "#                 ratings_j = {movie:userMovie_to_rating[(j, movie)] for movie in movies_j}\n",
    "#                 avg_j = np.mean(list(ratings_j.values()))\n",
    "#                 dev_j = {movie:(rating - avg_j) for movie, rating in ratings_j.items()}\n",
    "#                 dev_j_values = np.array(list(dev_j.values()))\n",
    "#                 sigma_j = np.sqrt(np.sum(np.square(dev_j_values)))\n",
    "\n",
    "#                 # calculate correlation coefficient\n",
    "#                 numerator = sum(dev_i[m]*dev_j[m] for m in common_movies)\n",
    "#                 w_ij = numerator / (sigma_i * sigma_j)\n",
    "                \n",
    "#                 # negate weight, because list is sorted ascending\n",
    "#                 # maximum value (1) is \"closest\"\n",
    "#                 neighbors_i.add((-w_ij, j))\n",
    "#                 if len(neighbors_i) > K:\n",
    "#                     del neighbors_i[-1]\n",
    "\n",
    "#     # store the neighbors\n",
    "#     neighbors.append(neighbors_i)\n",
    "#     if i % 100 == 0:\n",
    "#         print(f\"finished {i}\")"
   ]
  },
  {
   "cell_type": "code",
   "execution_count": null,
   "id": "5255c71a-326c-4448-bd00-53e70aa14091",
   "metadata": {},
   "outputs": [],
   "source": []
  },
  {
   "cell_type": "code",
   "execution_count": null,
   "id": "8b9cda25-de19-4092-946e-a90ecb7766af",
   "metadata": {},
   "outputs": [],
   "source": [
    "# using neighbors, calculate train and test MSE\n",
    "\n",
    "def predict(i, m):\n",
    "    # calculate the weighted sum of deviations\n",
    "    numerator = 0\n",
    "    denominator = 0\n",
    "    for neg_w, j in neighbors[i]:\n",
    "        try:\n",
    "            numerator += -neg_w * dev_for_users[j][m]\n",
    "            denominator += abs(neg_w)\n",
    "        except KeyError:\n",
    "            pass\n",
    "\n",
    "    if denominator == 0:\n",
    "        prediction = avg_for_users[i]\n",
    "    else:\n",
    "        prediction = numerator / denominator + averages[i]\n",
    "        prediction = min(5, prediction)\n",
    "        prediction = max(0.5, prediction)\n",
    "    return prediction\n",
    "\n",
    "\n",
    "train_predictions = []\n",
    "train_targets = []\n",
    "for (i, m), target in userMovie_to_rating.items():\n",
    "    prediction = predict(i, m)\n",
    "    train_predictions.append(prediction)\n",
    "    train_targets.append(target)\n",
    "\n",
    "test_predictions = []\n",
    "test_targets = []\n",
    "for (i, m), target in userMovie_to_rating_test.items():\n",
    "    prediction = predict(i, m)\n",
    "    test_predictions.append(prediction)\n",
    "    test_targets.append(target)"
   ]
  },
  {
   "cell_type": "code",
   "execution_count": null,
   "id": "150190f6-55d6-4e8b-b1d1-357cada476d9",
   "metadata": {},
   "outputs": [],
   "source": [
    "# calculate accuracy\n",
    "def mse(p, t):\n",
    "    p = np.array(p)\n",
    "    t = np.array(t)\n",
    "    return np.mean(np.square((p - t)))\n",
    "\n",
    "print('train mse:', mse(train_predictions, train_targets))\n",
    "print('test mse:', mse(test_predictions, test_targets))"
   ]
  },
  {
   "cell_type": "code",
   "execution_count": null,
   "id": "f4775f9e-e2ef-425a-9429-3bf0fc912b53",
   "metadata": {},
   "outputs": [],
   "source": []
  },
  {
   "cell_type": "code",
   "execution_count": null,
   "id": "a48164e7-b42e-486e-9dbd-ba3ea276ce4e",
   "metadata": {},
   "outputs": [],
   "source": []
  }
 ],
 "metadata": {
  "kernelspec": {
   "display_name": "Python 3 (ipykernel)",
   "language": "python",
   "name": "python3"
  },
  "language_info": {
   "codemirror_mode": {
    "name": "ipython",
    "version": 3
   },
   "file_extension": ".py",
   "mimetype": "text/x-python",
   "name": "python",
   "nbconvert_exporter": "python",
   "pygments_lexer": "ipython3",
   "version": "3.9.7"
  }
 },
 "nbformat": 4,
 "nbformat_minor": 5
}
