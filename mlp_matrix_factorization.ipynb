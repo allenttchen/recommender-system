{
 "cells": [
  {
   "cell_type": "markdown",
   "id": "2542ce11-f64c-49d6-b808-68aee3337e39",
   "metadata": {},
   "source": [
    "# MLP Matrix Factorization"
   ]
  },
  {
   "cell_type": "code",
   "execution_count": 7,
   "id": "d9ea6530-10fe-49f4-8fa2-d972696e825d",
   "metadata": {},
   "outputs": [],
   "source": [
    "import pickle\n",
    "\n",
    "import numpy as np\n",
    "import pandas as pd\n",
    "import matplotlib.pyplot as plt\n",
    "from sklearn.utils import shuffle\n",
    "from keras.models import Model\n",
    "from keras.layers import (\n",
    "    Input, \n",
    "    Embedding, \n",
    "    Flatten, \n",
    "    Dense, \n",
    "    Concatenate,\n",
    "    Dropout, \n",
    "    BatchNormalization,\n",
    "    Activation\n",
    ")\n",
    "from keras.regularizers import l2\n",
    "from keras.optimizers import SGD, Adam"
   ]
  },
  {
   "cell_type": "code",
   "execution_count": 2,
   "id": "8e87fa23-2e3b-4f7f-8471-f832761b4f11",
   "metadata": {},
   "outputs": [
    {
     "name": "stdout",
     "output_type": "stream",
     "text": [
      "(2206428, 6)\n"
     ]
    }
   ],
   "source": [
    "df = pd.read_csv('data/small_preprocessed_rating.csv')\n",
    "print(df.shape)"
   ]
  },
  {
   "cell_type": "code",
   "execution_count": 3,
   "id": "858a7033-2aa6-4f15-b6fe-bcbd1d3c52f3",
   "metadata": {},
   "outputs": [],
   "source": [
    "N = df.SmallUserId.max() + 1\n",
    "M = df.SmallNewMovieId.max() + 1"
   ]
  },
  {
   "cell_type": "code",
   "execution_count": 4,
   "id": "20c0a7a1-7970-4801-b156-684a000a54bd",
   "metadata": {},
   "outputs": [],
   "source": [
    "# split into train and test\n",
    "df = shuffle(df)\n",
    "cutoff = int(0.8*len(df))\n",
    "df_train = df.iloc[:cutoff]\n",
    "df_test = df.iloc[cutoff:]\n",
    "\n",
    "# initialize variables\n",
    "K = 10 # latent dimensionality\n",
    "mu = df_train.rating.mean()\n",
    "epochs = 15\n",
    "reg = 0. # regularization penalty"
   ]
  },
  {
   "cell_type": "code",
   "execution_count": 8,
   "id": "14592ab6-8acb-4e49-917d-7527fdee1d8e",
   "metadata": {},
   "outputs": [
    {
     "name": "stdout",
     "output_type": "stream",
     "text": [
      "Epoch 1/15\n"
     ]
    },
    {
     "name": "stderr",
     "output_type": "stream",
     "text": [
      "/Users/allenchen/miniforge3/lib/python3.9/site-packages/keras/optimizers/optimizer_v2/gradient_descent.py:114: UserWarning: The `lr` argument is deprecated, use `learning_rate` instead.\n",
      "  super().__init__(name, **kwargs)\n",
      "2023-02-26 15:56:20.641597: W tensorflow/tsl/platform/profile_utils/cpu_utils.cc:128] Failed to get CPU frequency: 0 Hz\n"
     ]
    },
    {
     "name": "stdout",
     "output_type": "stream",
     "text": [
      "13791/13791 [==============================] - 9s 619us/step - loss: 0.7220 - mse: 0.7220 - val_loss: 0.6889 - val_mse: 0.6889\n",
      "Epoch 2/15\n",
      "13791/13791 [==============================] - 9s 622us/step - loss: 0.6647 - mse: 0.6647 - val_loss: 0.6563 - val_mse: 0.6563\n",
      "Epoch 3/15\n",
      "13791/13791 [==============================] - 9s 635us/step - loss: 0.6452 - mse: 0.6452 - val_loss: 0.6387 - val_mse: 0.6387\n",
      "Epoch 4/15\n",
      "13791/13791 [==============================] - 8s 605us/step - loss: 0.6329 - mse: 0.6329 - val_loss: 0.6352 - val_mse: 0.6352\n",
      "Epoch 5/15\n",
      "13791/13791 [==============================] - 9s 626us/step - loss: 0.6194 - mse: 0.6194 - val_loss: 0.6289 - val_mse: 0.6289\n",
      "Epoch 6/15\n",
      "13791/13791 [==============================] - 8s 603us/step - loss: 0.6117 - mse: 0.6117 - val_loss: 0.6356 - val_mse: 0.6356\n",
      "Epoch 7/15\n",
      "13791/13791 [==============================] - 8s 613us/step - loss: 0.6033 - mse: 0.6033 - val_loss: 0.6363 - val_mse: 0.6363\n",
      "Epoch 8/15\n",
      "13791/13791 [==============================] - 9s 660us/step - loss: 0.5951 - mse: 0.5951 - val_loss: 0.6439 - val_mse: 0.6439\n",
      "Epoch 9/15\n",
      "13791/13791 [==============================] - 8s 613us/step - loss: 0.5872 - mse: 0.5872 - val_loss: 0.6148 - val_mse: 0.6148\n",
      "Epoch 10/15\n",
      "13791/13791 [==============================] - 9s 622us/step - loss: 0.5802 - mse: 0.5802 - val_loss: 0.6136 - val_mse: 0.6136\n",
      "Epoch 11/15\n",
      "13791/13791 [==============================] - 9s 630us/step - loss: 0.5738 - mse: 0.5738 - val_loss: 0.6125 - val_mse: 0.6125\n",
      "Epoch 12/15\n",
      "13791/13791 [==============================] - 9s 633us/step - loss: 0.5684 - mse: 0.5684 - val_loss: 0.6081 - val_mse: 0.6081\n",
      "Epoch 13/15\n",
      "13791/13791 [==============================] - 9s 630us/step - loss: 0.5636 - mse: 0.5636 - val_loss: 0.6165 - val_mse: 0.6165\n",
      "Epoch 14/15\n",
      "13791/13791 [==============================] - 9s 619us/step - loss: 0.5598 - mse: 0.5598 - val_loss: 0.6018 - val_mse: 0.6018\n",
      "Epoch 15/15\n",
      "13791/13791 [==============================] - 8s 615us/step - loss: 0.5570 - mse: 0.5570 - val_loss: 0.6138 - val_mse: 0.6138\n"
     ]
    }
   ],
   "source": [
    "# Keras Model\n",
    "\n",
    "# Initialize Input\n",
    "u = Input(shape=(1,))\n",
    "m = Input(shape=(1,))\n",
    "\n",
    "# User and Movie Embedding\n",
    "u_embedding = Embedding(N, K)(u) # (N, 1, K)\n",
    "m_embedding = Embedding(M, K)(m) # (N, 1, K)\n",
    "u_embedding = Flatten()(u_embedding) # (N, K)\n",
    "m_embedding = Flatten()(m_embedding) # (N, K)\n",
    "x = Concatenate()([u_embedding, m_embedding]) # (N, 2K)\n",
    "\n",
    "# MLP\n",
    "x = Dense(400)(x)\n",
    "# x = BatchNormalization()(x)\n",
    "x = Activation('relu')(x)\n",
    "# x = Dropout(0.5)(x)\n",
    "# x = Dense(100)(x)\n",
    "# x = BatchNormalization()(x)\n",
    "# x = Activation('relu')(x)\n",
    "x = Dense(1)(x)\n",
    "\n",
    "model = Model(inputs=[u, m], outputs=x)\n",
    "model.compile(\n",
    "    loss='mse',\n",
    "    # optimizer='adam',\n",
    "    # optimizer=Adam(lr=0.01),\n",
    "    optimizer=SGD(lr=0.08, momentum=0.9),\n",
    "    metrics=['mse'],\n",
    ")\n",
    "\n",
    "r = model.fit(\n",
    "    x=[df_train.SmallUserId.values, df_train.SmallNewMovieId.values],\n",
    "    y=df_train.rating.values - mu,\n",
    "    epochs=epochs,\n",
    "    batch_size=128,\n",
    "    validation_data=(\n",
    "        [df_test.SmallUserId.values, df_test.SmallNewMovieId.values],\n",
    "        df_test.rating.values - mu\n",
    "    )\n",
    ")"
   ]
  },
  {
   "cell_type": "code",
   "execution_count": null,
   "id": "0418e455-6577-4f85-9e22-226cf185c284",
   "metadata": {},
   "outputs": [],
   "source": []
  },
  {
   "cell_type": "code",
   "execution_count": 10,
   "id": "a5366e27-5f22-41ed-874a-aa3863c7faed",
   "metadata": {},
   "outputs": [
    {
     "data": {
      "image/png": "[encoded data removed]",
      "text/plain": [
       "<Figure size 640x480 with 1 Axes>"
      ]
     },
     "metadata": {},
     "output_type": "display_data"
    }
   ],
   "source": [
    "# plot losses\n",
    "plt.plot(r.history['loss'], label=\"train loss\")\n",
    "plt.plot(r.history['val_loss'], label=\"test loss\")\n",
    "plt.legend()\n",
    "plt.show()"
   ]
  },
  {
   "cell_type": "code",
   "execution_count": null,
   "id": "9db32b54-3d03-48a1-8231-b9d769a5665a",
   "metadata": {},
   "outputs": [],
   "source": []
  },
  {
   "cell_type": "code",
   "execution_count": null,
   "id": "892be720-4c95-4bfd-a9d9-ea3bdc9ff4b2",
   "metadata": {},
   "outputs": [],
   "source": []
  },
  {
   "cell_type": "code",
   "execution_count": null,
   "id": "be1f694b-0c1e-427f-b599-13498ed0d6ef",
   "metadata": {},
   "outputs": [],
   "source": []
  },
  {
   "cell_type": "code",
   "execution_count": null,
   "id": "013beba7-6e51-4753-87f4-a1de0e01621e",
   "metadata": {},
   "outputs": [],
   "source": []
  }
 ],
 "metadata": {
  "kernelspec": {
   "display_name": "Python 3 (ipykernel)",
   "language": "python",
   "name": "python3"
  },
  "language_info": {
   "codemirror_mode": {
    "name": "ipython",
    "version": 3
   },
   "file_extension": ".py",
   "mimetype": "text/x-python",
   "name": "python",
   "nbconvert_exporter": "python",
   "pygments_lexer": "ipython3",
   "version": "3.9.7"
  }
 },
 "nbformat": 4,
 "nbformat_minor": 5
}
