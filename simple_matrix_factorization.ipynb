{
 "cells": [
  {
   "cell_type": "markdown",
   "id": "0ae648cf-cd62-4199-b7dd-c1ced1eeb4ea",
   "metadata": {},
   "source": [
    "# Simple Matrix Factorization"
   ]
  },
  {
   "cell_type": "code",
   "execution_count": 3,
   "id": "0199d146-05ff-46fc-925b-3e7509372205",
   "metadata": {},
   "outputs": [],
   "source": [
    "import pickle\n",
    "\n",
    "import numpy as np\n",
    "import pandas as pd\n",
    "import matplotlib.pyplot as plt\n",
    "from sklearn.utils import shuffle\n",
    "from keras.models import Model\n",
    "from keras.layers import Input, Embedding, Dot, Add, Flatten\n",
    "from keras.regularizers import l2\n",
    "from keras.optimizers import SGD, Adam"
   ]
  },
  {
   "cell_type": "code",
   "execution_count": 4,
   "id": "50d6c447-7fea-4f9d-a14b-d65142b183b6",
   "metadata": {},
   "outputs": [
    {
     "name": "stdout",
     "output_type": "stream",
     "text": [
      "(2206428, 6)\n"
     ]
    }
   ],
   "source": [
    "df = pd.read_csv('data/small_preprocessed_rating.csv')\n",
    "print(df.shape)"
   ]
  },
  {
   "cell_type": "code",
   "execution_count": 5,
   "id": "8ef127e5-dee7-4a1a-8f43-ad8b7200e632",
   "metadata": {},
   "outputs": [
    {
     "data": {
      "text/html": [
       "<div>\n",
       "<style scoped>\n",
       "    .dataframe tbody tr th:only-of-type {\n",
       "        vertical-align: middle;\n",
       "    }\n",
       "\n",
       "    .dataframe tbody tr th {\n",
       "        vertical-align: top;\n",
       "    }\n",
       "\n",
       "    .dataframe thead th {\n",
       "        text-align: right;\n",
       "    }\n",
       "</style>\n",
       "<table border=\"1\" class=\"dataframe\">\n",
       "  <thead>\n",
       "    <tr style=\"text-align: right;\">\n",
       "      <th></th>\n",
       "      <th>userId</th>\n",
       "      <th>movieId</th>\n",
       "      <th>rating</th>\n",
       "      <th>newMovieId</th>\n",
       "      <th>SmallUserId</th>\n",
       "      <th>SmallNewMovieId</th>\n",
       "    </tr>\n",
       "  </thead>\n",
       "  <tbody>\n",
       "    <tr>\n",
       "      <th>0</th>\n",
       "      <td>10</td>\n",
       "      <td>1</td>\n",
       "      <td>4.5</td>\n",
       "      <td>1</td>\n",
       "      <td>5</td>\n",
       "      <td>0</td>\n",
       "    </tr>\n",
       "    <tr>\n",
       "      <th>1</th>\n",
       "      <td>10</td>\n",
       "      <td>10</td>\n",
       "      <td>2.5</td>\n",
       "      <td>10</td>\n",
       "      <td>5</td>\n",
       "      <td>8</td>\n",
       "    </tr>\n",
       "    <tr>\n",
       "      <th>2</th>\n",
       "      <td>10</td>\n",
       "      <td>19</td>\n",
       "      <td>3.5</td>\n",
       "      <td>19</td>\n",
       "      <td>5</td>\n",
       "      <td>16</td>\n",
       "    </tr>\n",
       "  </tbody>\n",
       "</table>\n",
       "</div>"
      ],
      "text/plain": [
       "   userId  movieId  rating  newMovieId  SmallUserId  SmallNewMovieId\n",
       "0      10        1     4.5           1            5                0\n",
       "1      10       10     2.5          10            5                8\n",
       "2      10       19     3.5          19            5               16"
      ]
     },
     "execution_count": 5,
     "metadata": {},
     "output_type": "execute_result"
    }
   ],
   "source": [
    "df.head(3)"
   ]
  },
  {
   "cell_type": "code",
   "execution_count": 6,
   "id": "da3d3cc0-608c-4a63-bb1c-d10368dc090e",
   "metadata": {},
   "outputs": [],
   "source": [
    "N = df.SmallUserId.max() + 1\n",
    "M = df.SmallNewMovieId.max() + 1"
   ]
  },
  {
   "cell_type": "code",
   "execution_count": 7,
   "id": "b82bbcb8-2806-4e2c-8589-56f0fd862491",
   "metadata": {},
   "outputs": [],
   "source": [
    "# split into train and test\n",
    "df = shuffle(df)\n",
    "cutoff = int(0.8*len(df))\n",
    "df_train = df.iloc[:cutoff]\n",
    "df_test = df.iloc[cutoff:]\n",
    "\n",
    "# initialize variables\n",
    "K = 10 # latent dimensionality\n",
    "mu = df_train.rating.mean()\n",
    "epochs = 15\n",
    "reg = 0. # regularization penalty"
   ]
  },
  {
   "cell_type": "code",
   "execution_count": null,
   "id": "6d22f900-838c-4148-9672-2760c16ea6d5",
   "metadata": {},
   "outputs": [],
   "source": []
  },
  {
   "cell_type": "code",
   "execution_count": 8,
   "id": "3f928490-25c4-4cd0-96e8-bcada7e4099a",
   "metadata": {},
   "outputs": [
    {
     "name": "stdout",
     "output_type": "stream",
     "text": [
      "Epoch 1/15\n"
     ]
    },
    {
     "name": "stderr",
     "output_type": "stream",
     "text": [
      "/Users/allenchen/miniforge3/lib/python3.9/site-packages/keras/optimizers/optimizer_v2/gradient_descent.py:114: UserWarning: The `lr` argument is deprecated, use `learning_rate` instead.\n",
      "  super().__init__(name, **kwargs)\n",
      "2023-02-26 15:48:36.925112: W tensorflow/tsl/platform/profile_utils/cpu_utils.cc:128] Failed to get CPU frequency: 0 Hz\n"
     ]
    },
    {
     "name": "stdout",
     "output_type": "stream",
     "text": [
      "13791/13791 [==============================] - 9s 623us/step - loss: 0.7461 - mse: 0.7461 - val_loss: 0.7043 - val_mse: 0.7043\n",
      "Epoch 2/15\n",
      "13791/13791 [==============================] - 8s 586us/step - loss: 0.7003 - mse: 0.7003 - val_loss: 0.6982 - val_mse: 0.6982\n",
      "Epoch 3/15\n",
      "13791/13791 [==============================] - 8s 595us/step - loss: 0.6811 - mse: 0.6811 - val_loss: 0.6631 - val_mse: 0.6631\n",
      "Epoch 4/15\n",
      "13791/13791 [==============================] - 8s 610us/step - loss: 0.6322 - mse: 0.6322 - val_loss: 0.6209 - val_mse: 0.6209\n",
      "Epoch 5/15\n",
      "13791/13791 [==============================] - 8s 607us/step - loss: 0.5896 - mse: 0.5896 - val_loss: 0.5987 - val_mse: 0.5987\n",
      "Epoch 6/15\n",
      "13791/13791 [==============================] - 8s 602us/step - loss: 0.5640 - mse: 0.5640 - val_loss: 0.5901 - val_mse: 0.5901\n",
      "Epoch 7/15\n",
      "13791/13791 [==============================] - 8s 598us/step - loss: 0.5494 - mse: 0.5494 - val_loss: 0.5857 - val_mse: 0.5857\n",
      "Epoch 8/15\n",
      "13791/13791 [==============================] - 8s 594us/step - loss: 0.5406 - mse: 0.5406 - val_loss: 0.5834 - val_mse: 0.5834\n",
      "Epoch 9/15\n",
      "13791/13791 [==============================] - 8s 607us/step - loss: 0.5350 - mse: 0.5350 - val_loss: 0.5814 - val_mse: 0.5814\n",
      "Epoch 10/15\n",
      "13791/13791 [==============================] - 8s 606us/step - loss: 0.5308 - mse: 0.5308 - val_loss: 0.5806 - val_mse: 0.5806\n",
      "Epoch 11/15\n",
      "13791/13791 [==============================] - 8s 610us/step - loss: 0.5277 - mse: 0.5277 - val_loss: 0.5798 - val_mse: 0.5798\n",
      "Epoch 12/15\n",
      "13791/13791 [==============================] - 8s 610us/step - loss: 0.5253 - mse: 0.5253 - val_loss: 0.5793 - val_mse: 0.5793\n",
      "Epoch 13/15\n",
      "13791/13791 [==============================] - 8s 609us/step - loss: 0.5235 - mse: 0.5235 - val_loss: 0.5793 - val_mse: 0.5793\n",
      "Epoch 14/15\n",
      "13791/13791 [==============================] - 8s 601us/step - loss: 0.5219 - mse: 0.5219 - val_loss: 0.5786 - val_mse: 0.5786\n",
      "Epoch 15/15\n",
      "13791/13791 [==============================] - 8s 594us/step - loss: 0.5207 - mse: 0.5207 - val_loss: 0.5786 - val_mse: 0.5786\n"
     ]
    }
   ],
   "source": [
    "# keras model\n",
    "\n",
    "# Embed user and movie matrix\n",
    "u = Input(shape=(1,))\n",
    "m = Input(shape=(1,))\n",
    "u_embedding = Embedding(N, K, embeddings_regularizer=l2(reg))(u) # (N, 1, K)\n",
    "m_embedding = Embedding(M, K, embeddings_regularizer=l2(reg))(m) # (N, 1, K)\n",
    "\n",
    "# Bias terms\n",
    "u_bias = Embedding(N, 1, embeddings_regularizer=l2(reg))(u) # (N, 1, 1)\n",
    "m_bias = Embedding(M, 1, embeddings_regularizer=l2(reg))(m) # (N, 1, 1)\n",
    "\n",
    "# (U @ M) + u + m\n",
    "x = Dot(axes=2)([u_embedding, m_embedding]) # (N, 1, 1)\n",
    "x = Add()([x, u_bias, m_bias])\n",
    "x = Flatten()(x) # (N, 1)\n",
    "\n",
    "model = Model(inputs=[u, m], outputs=x)\n",
    "model.compile(\n",
    "    loss='mse',\n",
    "    # optimizer='adam',\n",
    "    # optimizer=Adam(lr=0.01),\n",
    "    optimizer=SGD(lr=0.08, momentum=0.9),\n",
    "    metrics=['mse'],\n",
    ")\n",
    "\n",
    "r = model.fit(\n",
    "    x=[df_train.SmallUserId.values, df_train.SmallNewMovieId.values],\n",
    "    y=df_train.rating.values - mu,\n",
    "    epochs=epochs,\n",
    "    batch_size=128,\n",
    "    validation_data=(\n",
    "        [df_test.SmallUserId.values, df_test.SmallNewMovieId.values],\n",
    "        df_test.rating.values - mu\n",
    "    )\n",
    ")"
   ]
  },
  {
   "cell_type": "code",
   "execution_count": 12,
   "id": "becf6610-3ffb-4c30-bd2a-931ae0478363",
   "metadata": {},
   "outputs": [
    {
     "data": {
      "image/png": "[encoded data removed]",
      "text/plain": [
       "<Figure size 640x480 with 1 Axes>"
      ]
     },
     "metadata": {},
     "output_type": "display_data"
    }
   ],
   "source": [
    "# plot losses\n",
    "plt.plot(r.history['loss'], label=\"train loss\")\n",
    "plt.plot(r.history['val_loss'], label=\"test loss\")\n",
    "plt.legend()\n",
    "plt.show()"
   ]
  },
  {
   "cell_type": "code",
   "execution_count": null,
   "id": "4d039f57-e3e6-47fb-8b84-c72a7e5afd1b",
   "metadata": {},
   "outputs": [],
   "source": []
  },
  {
   "cell_type": "code",
   "execution_count": null,
   "id": "a3d4f72a-369f-4aba-b416-598008a53fdd",
   "metadata": {},
   "outputs": [],
   "source": []
  }
 ],
 "metadata": {
  "kernelspec": {
   "display_name": "Python 3 (ipykernel)",
   "language": "python",
   "name": "python3"
  },
  "language_info": {
   "codemirror_mode": {
    "name": "ipython",
    "version": 3
   },
   "file_extension": ".py",
   "mimetype": "text/x-python",
   "name": "python",
   "nbconvert_exporter": "python",
   "pygments_lexer": "ipython3",
   "version": "3.9.7"
  }
 },
 "nbformat": 4,
 "nbformat_minor": 5
}
