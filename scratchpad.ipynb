{
 "cells": [
  {
   "cell_type": "markdown",
   "id": "8537f535-47c8-4f8a-818e-064b89cf4186",
   "metadata": {},
   "source": [
    "# Scratchpad for recommenders"
   ]
  },
  {
   "cell_type": "code",
   "execution_count": 37,
   "id": "6c9978e2-1736-4698-92d4-dd06e5deb855",
   "metadata": {
    "tags": []
   },
   "outputs": [],
   "source": [
    "import pandas as pd\n",
    "import numpy as np\n",
    "import matplotlib.pyplot as plt\n",
    "from collections import Counter"
   ]
  },
  {
   "cell_type": "code",
   "execution_count": 20,
   "id": "ba21b5d2-b039-4b01-b41f-f05bc424b846",
   "metadata": {
    "tags": []
   },
   "outputs": [
    {
     "data": {
      "text/plain": [
       "(20000263, 4)"
      ]
     },
     "execution_count": 20,
     "metadata": {},
     "output_type": "execute_result"
    }
   ],
   "source": [
    "df = pd.read_csv(\"data/rating.csv\")\n",
    "df.shape"
   ]
  },
  {
   "cell_type": "code",
   "execution_count": 5,
   "id": "9ee10176-7452-4c2e-afae-1e082196ab8d",
   "metadata": {
    "tags": []
   },
   "outputs": [
    {
     "data": {
      "text/html": [
       "<div>\n",
       "<style scoped>\n",
       "    .dataframe tbody tr th:only-of-type {\n",
       "        vertical-align: middle;\n",
       "    }\n",
       "\n",
       "    .dataframe tbody tr th {\n",
       "        vertical-align: top;\n",
       "    }\n",
       "\n",
       "    .dataframe thead th {\n",
       "        text-align: right;\n",
       "    }\n",
       "</style>\n",
       "<table border=\"1\" class=\"dataframe\">\n",
       "  <thead>\n",
       "    <tr style=\"text-align: right;\">\n",
       "      <th></th>\n",
       "      <th>userId</th>\n",
       "      <th>movieId</th>\n",
       "      <th>rating</th>\n",
       "      <th>timestamp</th>\n",
       "    </tr>\n",
       "  </thead>\n",
       "  <tbody>\n",
       "    <tr>\n",
       "      <th>20000258</th>\n",
       "      <td>138493</td>\n",
       "      <td>68954</td>\n",
       "      <td>4.5</td>\n",
       "      <td>2009-11-13 15:42:00</td>\n",
       "    </tr>\n",
       "    <tr>\n",
       "      <th>20000259</th>\n",
       "      <td>138493</td>\n",
       "      <td>69526</td>\n",
       "      <td>4.5</td>\n",
       "      <td>2009-12-03 18:31:48</td>\n",
       "    </tr>\n",
       "    <tr>\n",
       "      <th>20000260</th>\n",
       "      <td>138493</td>\n",
       "      <td>69644</td>\n",
       "      <td>3.0</td>\n",
       "      <td>2009-12-07 18:10:57</td>\n",
       "    </tr>\n",
       "    <tr>\n",
       "      <th>20000261</th>\n",
       "      <td>138493</td>\n",
       "      <td>70286</td>\n",
       "      <td>5.0</td>\n",
       "      <td>2009-11-13 15:42:24</td>\n",
       "    </tr>\n",
       "    <tr>\n",
       "      <th>20000262</th>\n",
       "      <td>138493</td>\n",
       "      <td>71619</td>\n",
       "      <td>2.5</td>\n",
       "      <td>2009-10-17 20:25:36</td>\n",
       "    </tr>\n",
       "  </tbody>\n",
       "</table>\n",
       "</div>"
      ],
      "text/plain": [
       "          userId  movieId  rating            timestamp\n",
       "20000258  138493    68954     4.5  2009-11-13 15:42:00\n",
       "20000259  138493    69526     4.5  2009-12-03 18:31:48\n",
       "20000260  138493    69644     3.0  2009-12-07 18:10:57\n",
       "20000261  138493    70286     5.0  2009-11-13 15:42:24\n",
       "20000262  138493    71619     2.5  2009-10-17 20:25:36"
      ]
     },
     "execution_count": 5,
     "metadata": {},
     "output_type": "execute_result"
    }
   ],
   "source": [
    "df.tail()"
   ]
  },
  {
   "cell_type": "code",
   "execution_count": 15,
   "id": "344b8570-86ff-4f69-af1c-bd6eac8f60f0",
   "metadata": {
    "tags": []
   },
   "outputs": [
    {
     "data": {
      "text/plain": [
       "138493"
      ]
     },
     "execution_count": 15,
     "metadata": {},
     "output_type": "execute_result"
    }
   ],
   "source": [
    "# is userId sequential? Yes\n",
    "len(set(df.userId))"
   ]
  },
  {
   "cell_type": "code",
   "execution_count": 14,
   "id": "1a8c45c6-b997-4e45-87d1-67628ffcac18",
   "metadata": {
    "tags": []
   },
   "outputs": [
    {
     "name": "stdout",
     "output_type": "stream",
     "text": [
      "26744\n",
      "[55757, 55765, 55768, 55782, 55805, 55814, 55820, 55826, 55830, 55844, 55851, 55854, 55856, 55872, 55875, 55888, 55895, 55901, 55908, 55926]\n"
     ]
    }
   ],
   "source": [
    "# is movieId sequential? no there are holes\n",
    "print(len(set(df.movieId)))\n",
    "\n",
    "print(sorted(set(df.movieId))[12200:12220])"
   ]
  },
  {
   "cell_type": "code",
   "execution_count": 9,
   "id": "23acd755-59e6-450e-8edb-80f84cae5d2a",
   "metadata": {
    "tags": []
   },
   "outputs": [
    {
     "data": {
      "text/plain": [
       "4.0    5561926\n",
       "3.0    4291193\n",
       "5.0    2898660\n",
       "3.5    2200156\n",
       "4.5    1534824\n",
       "2.0    1430997\n",
       "2.5     883398\n",
       "1.0     680732\n",
       "1.5     279252\n",
       "0.5     239125\n",
       "Name: rating, dtype: int64"
      ]
     },
     "execution_count": 9,
     "metadata": {},
     "output_type": "execute_result"
    }
   ],
   "source": [
    "df.rating.value_counts()"
   ]
  },
  {
   "cell_type": "markdown",
   "id": "27fc14bb-8e65-4a0c-ad00-6e55b3e5aac4",
   "metadata": {},
   "source": [
    "### Preprocess"
   ]
  },
  {
   "cell_type": "code",
   "execution_count": 21,
   "id": "14783245-f5c9-4cb0-999f-02595405ef4f",
   "metadata": {
    "tags": []
   },
   "outputs": [],
   "source": [
    "# prepare preprocessed dataset\n",
    "\n",
    "# drop axis\n",
    "df.drop([\"timestamp\"], axis=1, inplace=True)\n",
    "\n",
    "# make userId 0-indexed\n",
    "df['userId'] = df['userId'] - 1\n",
    "\n",
    "# map movieId to a new continoues movie ID\n",
    "oldToNewMap = {}\n",
    "oldIds = set(df.movieId.values)\n",
    "newId = 0\n",
    "for oldId in oldIds:\n",
    "    oldToNewMap[oldId] = newId\n",
    "    newId += 1\n",
    "    \n",
    "df[\"newMovieId\"] = df.movieId.apply(lambda x: oldToNewMap[x])"
   ]
  },
  {
   "cell_type": "code",
   "execution_count": 22,
   "id": "8948d129-396d-44dc-a048-60a8b6f069ba",
   "metadata": {
    "tags": []
   },
   "outputs": [
    {
     "data": {
      "text/html": [
       "<div>\n",
       "<style scoped>\n",
       "    .dataframe tbody tr th:only-of-type {\n",
       "        vertical-align: middle;\n",
       "    }\n",
       "\n",
       "    .dataframe tbody tr th {\n",
       "        vertical-align: top;\n",
       "    }\n",
       "\n",
       "    .dataframe thead th {\n",
       "        text-align: right;\n",
       "    }\n",
       "</style>\n",
       "<table border=\"1\" class=\"dataframe\">\n",
       "  <thead>\n",
       "    <tr style=\"text-align: right;\">\n",
       "      <th></th>\n",
       "      <th>userId</th>\n",
       "      <th>movieId</th>\n",
       "      <th>rating</th>\n",
       "      <th>newMovieId</th>\n",
       "    </tr>\n",
       "  </thead>\n",
       "  <tbody>\n",
       "    <tr>\n",
       "      <th>0</th>\n",
       "      <td>0</td>\n",
       "      <td>2</td>\n",
       "      <td>3.5</td>\n",
       "      <td>2</td>\n",
       "    </tr>\n",
       "    <tr>\n",
       "      <th>1</th>\n",
       "      <td>0</td>\n",
       "      <td>29</td>\n",
       "      <td>3.5</td>\n",
       "      <td>29</td>\n",
       "    </tr>\n",
       "    <tr>\n",
       "      <th>2</th>\n",
       "      <td>0</td>\n",
       "      <td>32</td>\n",
       "      <td>3.5</td>\n",
       "      <td>32</td>\n",
       "    </tr>\n",
       "    <tr>\n",
       "      <th>3</th>\n",
       "      <td>0</td>\n",
       "      <td>47</td>\n",
       "      <td>3.5</td>\n",
       "      <td>47</td>\n",
       "    </tr>\n",
       "    <tr>\n",
       "      <th>4</th>\n",
       "      <td>0</td>\n",
       "      <td>50</td>\n",
       "      <td>3.5</td>\n",
       "      <td>50</td>\n",
       "    </tr>\n",
       "  </tbody>\n",
       "</table>\n",
       "</div>"
      ],
      "text/plain": [
       "   userId  movieId  rating  newMovieId\n",
       "0       0        2     3.5           2\n",
       "1       0       29     3.5          29\n",
       "2       0       32     3.5          32\n",
       "3       0       47     3.5          47\n",
       "4       0       50     3.5          50"
      ]
     },
     "execution_count": 22,
     "metadata": {},
     "output_type": "execute_result"
    }
   ],
   "source": [
    "df.head()"
   ]
  },
  {
   "cell_type": "code",
   "execution_count": 35,
   "id": "5a8891ad-a73c-41ef-b800-54d435a485bb",
   "metadata": {
    "tags": []
   },
   "outputs": [],
   "source": [
    "df.to_csv('data/preprocessed_rating.csv', index=False)"
   ]
  },
  {
   "cell_type": "markdown",
   "id": "5d3ba130-3f68-44f8-a0f7-8678bbd4e847",
   "metadata": {
    "tags": []
   },
   "source": [
    "### Make small dataset for on-premise workload"
   ]
  },
  {
   "cell_type": "code",
   "execution_count": 52,
   "id": "7c6dd375-a820-4666-925f-849cfe59e2c9",
   "metadata": {
    "tags": []
   },
   "outputs": [
    {
     "data": {
      "text/html": [
       "<div>\n",
       "<style scoped>\n",
       "    .dataframe tbody tr th:only-of-type {\n",
       "        vertical-align: middle;\n",
       "    }\n",
       "\n",
       "    .dataframe tbody tr th {\n",
       "        vertical-align: top;\n",
       "    }\n",
       "\n",
       "    .dataframe thead th {\n",
       "        text-align: right;\n",
       "    }\n",
       "</style>\n",
       "<table border=\"1\" class=\"dataframe\">\n",
       "  <thead>\n",
       "    <tr style=\"text-align: right;\">\n",
       "      <th></th>\n",
       "      <th>userId</th>\n",
       "      <th>movieId</th>\n",
       "      <th>rating</th>\n",
       "      <th>newMovieId</th>\n",
       "    </tr>\n",
       "  </thead>\n",
       "  <tbody>\n",
       "    <tr>\n",
       "      <th>0</th>\n",
       "      <td>0</td>\n",
       "      <td>2</td>\n",
       "      <td>3.5</td>\n",
       "      <td>2</td>\n",
       "    </tr>\n",
       "    <tr>\n",
       "      <th>1</th>\n",
       "      <td>0</td>\n",
       "      <td>29</td>\n",
       "      <td>3.5</td>\n",
       "      <td>29</td>\n",
       "    </tr>\n",
       "    <tr>\n",
       "      <th>2</th>\n",
       "      <td>0</td>\n",
       "      <td>32</td>\n",
       "      <td>3.5</td>\n",
       "      <td>32</td>\n",
       "    </tr>\n",
       "    <tr>\n",
       "      <th>3</th>\n",
       "      <td>0</td>\n",
       "      <td>47</td>\n",
       "      <td>3.5</td>\n",
       "      <td>47</td>\n",
       "    </tr>\n",
       "    <tr>\n",
       "      <th>4</th>\n",
       "      <td>0</td>\n",
       "      <td>50</td>\n",
       "      <td>3.5</td>\n",
       "      <td>50</td>\n",
       "    </tr>\n",
       "  </tbody>\n",
       "</table>\n",
       "</div>"
      ],
      "text/plain": [
       "   userId  movieId  rating  newMovieId\n",
       "0       0        2     3.5           2\n",
       "1       0       29     3.5          29\n",
       "2       0       32     3.5          32\n",
       "3       0       47     3.5          47\n",
       "4       0       50     3.5          50"
      ]
     },
     "execution_count": 52,
     "metadata": {},
     "output_type": "execute_result"
    }
   ],
   "source": [
    "preprocessed = pd.read_csv(\"data/preprocessed_rating.csv\")\n",
    "preprocessed.head()"
   ]
  },
  {
   "cell_type": "code",
   "execution_count": 53,
   "id": "2b07ee03-dc06-4757-8a7e-8801f494d08c",
   "metadata": {
    "tags": []
   },
   "outputs": [],
   "source": [
    "userIdCount = Counter(preprocessed.userId)\n",
    "movieIdCount = Counter(preprocessed.newMovieId)\n",
    "\n",
    "# number of users and movies to keep\n",
    "n = 10000\n",
    "m = 2000\n",
    "\n",
    "topUserIds = [k for k, v in userIdCount.most_common(n)]\n",
    "topMovieIds = [k for k, v in movieIdCount.most_common(m)]\n",
    "\n",
    "preprocessed_small = preprocessed[preprocessed.userId.isin(topUserIds) & preprocessed.movieId.isin(topMovieIds)].copy()"
   ]
  },
  {
   "cell_type": "code",
   "execution_count": 54,
   "id": "ad383afe-6e57-454d-958d-72ecc94f3889",
   "metadata": {
    "tags": []
   },
   "outputs": [
    {
     "data": {
      "text/plain": [
       "(2206428, 4)"
      ]
     },
     "execution_count": 54,
     "metadata": {},
     "output_type": "execute_result"
    }
   ],
   "source": [
    "preprocessed_small.shape"
   ]
  },
  {
   "cell_type": "code",
   "execution_count": 55,
   "id": "801c9a34-0480-4d44-a097-9e030c71afa2",
   "metadata": {
    "tags": []
   },
   "outputs": [],
   "source": [
    "# ensure sequential\n",
    "def make_sequential(df, col):\n",
    "    old_to_new_map = {}\n",
    "    old_ids = set(df[col])\n",
    "    new_id = 0\n",
    "    for old_id in old_ids:\n",
    "        old_to_new_map[old_id] = new_id\n",
    "        new_id += 1\n",
    "    df[col] = df[col].apply(lambda x: old_to_new_map[x])\n",
    "    return df\n",
    "\n",
    "preprocessed_small = make_sequential(preprocessed_small, 'userId')\n",
    "preprocessed_small = make_sequential(preprocessed_small, 'newMovieId')"
   ]
  },
  {
   "cell_type": "code",
   "execution_count": 56,
   "id": "1722e63d-74ec-4079-b257-eadc632a863c",
   "metadata": {
    "tags": []
   },
   "outputs": [],
   "source": [
    "preprocessed_small.reset_index(drop=True, inplace=True)"
   ]
  },
  {
   "cell_type": "code",
   "execution_count": 59,
   "id": "7f8ec751-a5d9-4aea-a6af-dc11cbdc9c54",
   "metadata": {
    "tags": []
   },
   "outputs": [
    {
     "name": "stdout",
     "output_type": "stream",
     "text": [
      "9999\n",
      "1705\n"
     ]
    }
   ],
   "source": [
    "print(preprocessed_small.userId.max())\n",
    "print(preprocessed_small.newMovieId.max())"
   ]
  },
  {
   "cell_type": "code",
   "execution_count": 60,
   "id": "1e488c22-e3e7-4746-96ca-a81e1acafdcd",
   "metadata": {
    "tags": []
   },
   "outputs": [],
   "source": [
    "preprocessed_small.to_csv('data/preprocessed_small_rating.csv', index=False)"
   ]
  },
  {
   "cell_type": "code",
   "execution_count": 1,
   "id": "5683fb63-09d4-47db-a52c-123d3f547117",
   "metadata": {},
   "outputs": [],
   "source": [
    "# random stuff here"
   ]
  },
  {
   "cell_type": "code",
   "execution_count": null,
   "id": "cd2d1fb5-0d62-469b-a487-867167e2b319",
   "metadata": {},
   "outputs": [],
   "source": []
  }
 ],
 "metadata": {
  "kernelspec": {
   "display_name": "Python 3 (ipykernel)",
   "language": "python",
   "name": "python3"
  },
  "language_info": {
   "codemirror_mode": {
    "name": "ipython",
    "version": 3
   },
   "file_extension": ".py",
   "mimetype": "text/x-python",
   "name": "python",
   "nbconvert_exporter": "python",
   "pygments_lexer": "ipython3",
   "version": "3.9.7"
  }
 },
 "nbformat": 4,
 "nbformat_minor": 5
}
