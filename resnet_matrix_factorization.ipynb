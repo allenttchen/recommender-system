{
 "cells": [
  {
   "cell_type": "markdown",
   "id": "969f60ff-72ea-485b-833a-b0b043bf5e2f",
   "metadata": {},
   "source": [
    "# ResNet Matrix Factorization"
   ]
  },
  {
   "cell_type": "code",
   "execution_count": 8,
   "id": "2185b644-1c81-4264-9443-753d8a291038",
   "metadata": {},
   "outputs": [],
   "source": [
    "import pickle\n",
    "\n",
    "import numpy as np\n",
    "import pandas as pd\n",
    "import matplotlib.pyplot as plt\n",
    "from sklearn.utils import shuffle\n",
    "from keras.models import Model\n",
    "from keras.layers import (\n",
    "    Add, \n",
    "    Input, \n",
    "    Embedding, \n",
    "    Dot, \n",
    "    Flatten, \n",
    "    Dense, \n",
    "    Concatenate,\n",
    "    Dropout, \n",
    "    BatchNormalization,\n",
    "    Activation\n",
    ")\n",
    "from keras.regularizers import l2\n",
    "from keras.optimizers import SGD, Adam"
   ]
  },
  {
   "cell_type": "code",
   "execution_count": 2,
   "id": "1aab31f1-5a7f-4f4b-b8ba-59b2aaf9c142",
   "metadata": {},
   "outputs": [
    {
     "name": "stdout",
     "output_type": "stream",
     "text": [
      "(2206428, 6)\n"
     ]
    }
   ],
   "source": [
    "df = pd.read_csv('data/small_preprocessed_rating.csv')\n",
    "print(df.shape)"
   ]
  },
  {
   "cell_type": "code",
   "execution_count": 3,
   "id": "ac128988-dc0a-4864-becf-e58316d34c9e",
   "metadata": {},
   "outputs": [],
   "source": [
    "N = df.SmallUserId.max() + 1\n",
    "M = df.SmallNewMovieId.max() + 1"
   ]
  },
  {
   "cell_type": "code",
   "execution_count": 4,
   "id": "7516174a-3a27-43d7-9ebd-57d33262618e",
   "metadata": {},
   "outputs": [],
   "source": [
    "# split into train and test\n",
    "df = shuffle(df)\n",
    "cutoff = int(0.8*len(df))\n",
    "df_train = df.iloc[:cutoff]\n",
    "df_test = df.iloc[cutoff:]\n",
    "\n",
    "# initialize variables\n",
    "K = 10 # latent dimensionality\n",
    "mu = df_train.rating.mean()\n",
    "epochs = 15\n",
    "reg = 0. # regularization penalty"
   ]
  },
  {
   "cell_type": "code",
   "execution_count": 9,
   "id": "c288addf-bd65-4cdf-a6ea-52517551e958",
   "metadata": {},
   "outputs": [
    {
     "name": "stdout",
     "output_type": "stream",
     "text": [
      "Epoch 1/15\n"
     ]
    },
    {
     "name": "stderr",
     "output_type": "stream",
     "text": [
      "/Users/allenchen/miniforge3/lib/python3.9/site-packages/keras/optimizers/optimizer_v2/gradient_descent.py:114: UserWarning: The `lr` argument is deprecated, use `learning_rate` instead.\n",
      "  super().__init__(name, **kwargs)\n",
      "2023-02-26 16:14:47.479714: W tensorflow/tsl/platform/profile_utils/cpu_utils.cc:128] Failed to get CPU frequency: 0 Hz\n"
     ]
    },
    {
     "name": "stdout",
     "output_type": "stream",
     "text": [
      "13791/13791 [==============================] - 14s 1ms/step - loss: 0.7223 - mse: 0.7223 - val_loss: 0.6733 - val_mse: 0.6733\n",
      "Epoch 2/15\n",
      "13791/13791 [==============================] - 14s 1ms/step - loss: 0.6652 - mse: 0.6652 - val_loss: 0.6556 - val_mse: 0.6556\n",
      "Epoch 3/15\n",
      "13791/13791 [==============================] - 14s 999us/step - loss: 0.6511 - mse: 0.6511 - val_loss: 0.6476 - val_mse: 0.6476\n",
      "Epoch 4/15\n",
      "13791/13791 [==============================] - 14s 1ms/step - loss: 0.6298 - mse: 0.6298 - val_loss: 0.6271 - val_mse: 0.6271\n",
      "Epoch 5/15\n",
      "13791/13791 [==============================] - 14s 1ms/step - loss: 0.5991 - mse: 0.5991 - val_loss: 0.6094 - val_mse: 0.6094\n",
      "Epoch 6/15\n",
      "13791/13791 [==============================] - 14s 1ms/step - loss: 0.5791 - mse: 0.5791 - val_loss: 0.6144 - val_mse: 0.6144\n",
      "Epoch 7/15\n",
      "13791/13791 [==============================] - 14s 1ms/step - loss: 0.5646 - mse: 0.5646 - val_loss: 0.5990 - val_mse: 0.5990\n",
      "Epoch 8/15\n",
      "13791/13791 [==============================] - 14s 1ms/step - loss: 0.5551 - mse: 0.5551 - val_loss: 0.5973 - val_mse: 0.5973\n",
      "Epoch 9/15\n",
      "13791/13791 [==============================] - 14s 995us/step - loss: 0.5479 - mse: 0.5479 - val_loss: 0.6007 - val_mse: 0.6007\n",
      "Epoch 10/15\n",
      "13791/13791 [==============================] - 14s 1ms/step - loss: 0.5426 - mse: 0.5426 - val_loss: 0.5932 - val_mse: 0.5932\n",
      "Epoch 11/15\n",
      "13791/13791 [==============================] - 14s 1ms/step - loss: 0.5388 - mse: 0.5388 - val_loss: 0.5909 - val_mse: 0.5909\n",
      "Epoch 12/15\n",
      "13791/13791 [==============================] - 14s 991us/step - loss: 0.5357 - mse: 0.5357 - val_loss: 0.5965 - val_mse: 0.5965\n",
      "Epoch 13/15\n",
      "13791/13791 [==============================] - 14s 1000us/step - loss: 0.5330 - mse: 0.5330 - val_loss: 0.5908 - val_mse: 0.5908\n",
      "Epoch 14/15\n",
      "13791/13791 [==============================] - 14s 996us/step - loss: 0.5310 - mse: 0.5310 - val_loss: 0.5884 - val_mse: 0.5884\n",
      "Epoch 15/15\n",
      "13791/13791 [==============================] - 14s 997us/step - loss: 0.5291 - mse: 0.5291 - val_loss: 0.5879 - val_mse: 0.5879\n"
     ]
    }
   ],
   "source": [
    "# keras model\n",
    "u = Input(shape=(1,))\n",
    "m = Input(shape=(1,))\n",
    "u_embedding = Embedding(N, K)(u) # (N, 1, K)\n",
    "m_embedding = Embedding(M, K)(m) # (N, 1, K)\n",
    "\n",
    "# main branch\n",
    "u_bias = Embedding(N, 1)(u) # (N, 1, 1)\n",
    "m_bias = Embedding(M, 1)(m) # (N, 1, 1)\n",
    "x = Dot(axes=2)([u_embedding, m_embedding]) # (N, 1, 1)\n",
    "x = Add()([x, u_bias, m_bias])\n",
    "x = Flatten()(x) # (N, 1)\n",
    "\n",
    "# side branch\n",
    "u_embedding = Flatten()(u_embedding) # (N, K)\n",
    "m_embedding = Flatten()(m_embedding) # (N, K)\n",
    "y = Concatenate()([u_embedding, m_embedding]) # (N, 2K)\n",
    "y = Dense(400)(y)\n",
    "y = Activation('elu')(y)\n",
    "# y = Dropout(0.5)(y)\n",
    "y = Dense(1)(y)\n",
    "\n",
    "# merge\n",
    "x = Add()([x, y])\n",
    "\n",
    "model = Model(inputs=[u, m], outputs=x)\n",
    "model.compile(\n",
    "    loss='mse',\n",
    "    # optimizer='adam',\n",
    "    # optimizer=Adam(lr=0.01),\n",
    "    optimizer=SGD(lr=0.08, momentum=0.9),\n",
    "    metrics=['mse'],\n",
    ")\n",
    "\n",
    "r = model.fit(\n",
    "    x=[df_train.SmallUserId.values, df_train.SmallNewMovieId.values],\n",
    "    y=df_train.rating.values - mu,\n",
    "    epochs=epochs,\n",
    "    batch_size=128,\n",
    "    validation_data=(\n",
    "        [df_test.SmallUserId.values, df_test.SmallNewMovieId.values],\n",
    "        df_test.rating.values - mu\n",
    "    )\n",
    ")"
   ]
  },
  {
   "cell_type": "code",
   "execution_count": 10,
   "id": "97096ad1-410b-445d-a9d0-af231fa68c77",
   "metadata": {},
   "outputs": [
    {
     "data": {
      "image/png": "[encoded data removed]",
      "text/plain": [
       "<Figure size 640x480 with 1 Axes>"
      ]
     },
     "metadata": {},
     "output_type": "display_data"
    }
   ],
   "source": [
    "# plot losses\n",
    "plt.plot(r.history['loss'], label=\"train loss\")\n",
    "plt.plot(r.history['val_loss'], label=\"test loss\")\n",
    "plt.legend()\n",
    "plt.show()"
   ]
  },
  {
   "cell_type": "code",
   "execution_count": null,
   "id": "b35f00b3-7b0d-491a-a78a-f29913ae64f2",
   "metadata": {},
   "outputs": [],
   "source": []
  },
  {
   "cell_type": "code",
   "execution_count": null,
   "id": "06bbfae9-0a3a-4f96-9814-c8f1277fa86d",
   "metadata": {},
   "outputs": [],
   "source": []
  }
 ],
 "metadata": {
  "kernelspec": {
   "display_name": "Python 3 (ipykernel)",
   "language": "python",
   "name": "python3"
  },
  "language_info": {
   "codemirror_mode": {
    "name": "ipython",
    "version": 3
   },
   "file_extension": ".py",
   "mimetype": "text/x-python",
   "name": "python",
   "nbconvert_exporter": "python",
   "pygments_lexer": "ipython3",
   "version": "3.9.7"
  }
 },
 "nbformat": 4,
 "nbformat_minor": 5
}
